{
 "cells": [
  {
   "cell_type": "markdown",
   "metadata": {},
   "source": ["# MMX Swarm Analysis\n", "This notebook demonstrates basic usage of the MMX Swarm modules."]
  },
  {
   "cell_type": "code",
   "execution_count": null,
   "metadata": {},
   "outputs": [],
   "source": ["from mmx_swarm.conversation_processor import ConversationProcessor\n", "from mmx_swarm.swarm import SwarmConsciousness\n", "processor = ConversationProcessor()\n", "swarm = SwarmConsciousness()"]
  }
 ],
 "metadata": {
  "kernelspec": {
   "display_name": "Python 3",
   "language": "python",
   "name": "python3"
  },
  "language_info": {
   "name": "python",
   "version": "3"
  }
 },
 "nbformat": 4,
 "nbformat_minor": 5
}
